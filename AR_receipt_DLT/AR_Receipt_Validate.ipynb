{
 "cells": [
  {
   "cell_type": "code",
   "execution_count": 0,
   "metadata": {
    "application/vnd.databricks.v1+cell": {
     "cellMetadata": {
      "byteLimit": 2048000,
      "rowLimit": 10000
     },
     "inputWidgets": {},
     "nuid": "3af4c280-f20a-4c0e-8889-ec24e7fbb968",
     "showTitle": false,
     "tableResultSettingsMap": {},
     "title": ""
    }
   },
   "outputs": [],
   "source": [
    "import dlt\n",
    "import sys\n",
    "from pyspark.sql.functions import col\n",
    "sys.path.append(\"/Workspace/Project_1/Databricks_Projects\")\n",
    "from validation_rules import not_null_rule, date_format_rule, concat_errors\n",
    "\n",
    "def validation_columns(df):\n",
    "    invalid_customer_name = not_null_rule(\"customer_name\")\n",
    "    invalid_date_format = date_format_rule(\"date\")\n",
    "    invalid_date_null = not_null_rule(\"date\")\n",
    "    Invalid_summary = concat_errors(invalid_customer_name, invalid_date_format, invalid_date_null)\n",
    "    df_validated = (\n",
    "        df\n",
    "        .withColumn(\"invalid_customer_name\", invalid_customer_name)\n",
    "        .withColumn(\"invalid_date_format\", invalid_date_format)\n",
    "        .withColumn(\"invalid_date_null\", invalid_date_null)\n",
    "        .withColumn(\"Invalid_summary\", Invalid_summary)\n",
    "    )\n",
    "    return df_validated\n",
    "\n",
    "@dlt.table(\n",
    "    name=\"vld_ar_receipt_valid\"\n",
    ")\n",
    "def vld_ar_receipt_valid():\n",
    "    df = dlt.read(\"cln_ar_receipt_cleanse\")\n",
    "    df_validated = validation_columns(df)\n",
    "    return df_validated.filter(col(\"Invalid_summary\") == \"\")\n",
    "\n",
    "@dlt.table(\n",
    "    name=\"vld_ar_receipt_invalid\"\n",
    ")\n",
    "def vld_ar_receipt_invalid():\n",
    "    df = dlt.read(\"cln_ar_receipt_cleanse\")\n",
    "    df_validated = validation_columns(df)\n",
    "    return df_validated.filter(col(\"Invalid_summary\") != \"\")"
   ]
  }
 ],
 "metadata": {
  "application/vnd.databricks.v1+notebook": {
   "computePreferences": null,
   "dashboards": [],
   "environmentMetadata": {
    "base_environment": "",
    "environment_version": "2"
   },
   "inputWidgetPreferences": null,
   "language": "python",
   "notebookMetadata": {
    "pythonIndentUnit": 4
   },
   "notebookName": "AR_Receipt_Validate",
   "widgets": {}
  },
  "language_info": {
   "name": "python"
  }
 },
 "nbformat": 4,
 "nbformat_minor": 0
}
