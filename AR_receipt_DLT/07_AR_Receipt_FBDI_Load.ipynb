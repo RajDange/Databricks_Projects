{
 "cells": [
  {
   "cell_type": "code",
   "execution_count": 0,
   "metadata": {
    "application/vnd.databricks.v1+cell": {
     "cellMetadata": {},
     "inputWidgets": {},
     "nuid": "8c4410ed-ec5e-4f55-bd51-6e09938e1c2f",
     "showTitle": false,
     "tableResultSettingsMap": {},
     "title": ""
    }
   },
   "outputs": [],
   "source": [
    "import requests\n",
    "import json\n",
    "from requests.auth import HTTPBasicAuth\n",
    "\n",
    "# Define the API endpoint\n",
    "url = \"https://<your_domain>/fscmRestApi/resources/11.13.18.05/standardReceipts\"\n",
    "\n",
    "# Replace these with your actual username and password\n",
    "username = \"your_username\"\n",
    "password = \"your_password\"\n",
    "\n",
    "# Set headers and payload\n",
    "headers = {\n",
    "    \"Content-Type\": \"application/json\"\n",
    "}\n",
    "\n",
    "payload = {\n",
    "    # Add your required receipt fields here\n",
    "    \"ReceiptNumber\": \"12345\",\n",
    "    \"Amount\": 100.0,\n",
    "    \"Customer\": \"John Doe\"\n",
    "}\n",
    "\n",
    "# Make the POST request with basic auth\n",
    "response = requests.post(url, headers=headers, auth=HTTPBasicAuth(username, password), data=json.dumps(payload))\n",
    "\n",
    "# Output the response\n",
    "print(f\"Status Code: {response.status_code}\")\n",
    "print(response.text)\n"
   ]
  }
 ],
 "metadata": {
  "application/vnd.databricks.v1+notebook": {
   "computePreferences": null,
   "dashboards": [],
   "environmentMetadata": {
    "base_environment": "",
    "environment_version": "2"
   },
   "inputWidgetPreferences": null,
   "language": "python",
   "notebookMetadata": {
    "pythonIndentUnit": 4
   },
   "notebookName": "07_AR_Receipt_FBDI_Load",
   "widgets": {}
  },
  "language_info": {
   "name": "python"
  }
 },
 "nbformat": 4,
 "nbformat_minor": 0
}
