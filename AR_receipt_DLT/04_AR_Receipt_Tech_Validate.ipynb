{
 "cells": [
  {
   "cell_type": "code",
   "execution_count": 0,
   "metadata": {
    "application/vnd.databricks.v1+cell": {
     "cellMetadata": {},
     "inputWidgets": {},
     "nuid": "f464da8e-1452-40cf-9ad3-8f2e51556b43",
     "showTitle": false,
     "tableResultSettingsMap": {},
     "title": ""
    }
   },
   "outputs": [],
   "source": [
    "%load_ext autoreload\n",
    "%autoreload 2"
   ]
  },
  {
   "cell_type": "code",
   "execution_count": 0,
   "metadata": {
    "application/vnd.databricks.v1+cell": {
     "cellMetadata": {},
     "inputWidgets": {},
     "nuid": "b5628a71-c8dd-484f-8d20-7acd09ec217a",
     "showTitle": false,
     "tableResultSettingsMap": {},
     "title": ""
    }
   },
   "outputs": [],
   "source": [
    "import dlt\n",
    "import sys\n",
    "from pyspark.sql.functions import col\n",
    "sys.path.append(\"/Workspace/Project_2/Databricks_Projects\")\n",
    "from validation_rules import check_varchar_5\n",
    "\n",
    "def validation_columns(df):\n",
    "    tech_invalid_receipt_amount = check_varchar_5(\"receipt_amount\")\n",
    "    df_validated = df.withColumn(\"tech_invalid_receipt_amount\",tech_invalid_receipt_amount)\n",
    "    return df_validated\n",
    "\n"
   ]
  },
  {
   "cell_type": "code",
   "execution_count": 0,
   "metadata": {
    "application/vnd.databricks.v1+cell": {
     "cellMetadata": {},
     "inputWidgets": {},
     "nuid": "f6d9a756-e3ff-4d75-a370-45e1ab61f392",
     "showTitle": false,
     "tableResultSettingsMap": {},
     "title": ""
    }
   },
   "outputs": [],
   "source": [
    "@dlt.table(\n",
    "    name=\"Tech_vld_ar_receipt\"\n",
    ")\n",
    "def vld_ar_receipt_valid():\n",
    "    df = dlt.read(\"cln_ar_receipt_cleanse\")\n",
    "    df_Tech_validated = validation_columns(df)\n",
    "    return df_Tech_validated"
   ]
  }
 ],
 "metadata": {
  "application/vnd.databricks.v1+notebook": {
   "computePreferences": null,
   "dashboards": [],
   "environmentMetadata": {
    "base_environment": "",
    "environment_version": "2"
   },
   "inputWidgetPreferences": null,
   "language": "python",
   "notebookMetadata": {
    "pythonIndentUnit": 4
   },
   "notebookName": "04_AR_Receipt_Tech_Validate",
   "widgets": {}
  },
  "language_info": {
   "name": "python"
  }
 },
 "nbformat": 4,
 "nbformat_minor": 0
}
