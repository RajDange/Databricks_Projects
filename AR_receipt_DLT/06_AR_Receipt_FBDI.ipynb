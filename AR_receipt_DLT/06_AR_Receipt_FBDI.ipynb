{
 "cells": [
  {
   "cell_type": "code",
   "execution_count": 0,
   "metadata": {
    "application/vnd.databricks.v1+cell": {
     "cellMetadata": {},
     "inputWidgets": {},
     "nuid": "8e667d5e-f3c4-4d7d-9981-0cb8d0005773",
     "showTitle": false,
     "tableResultSettingsMap": {},
     "title": ""
    }
   },
   "outputs": [],
   "source": [
    "import dlt\n",
    "from pyspark.sql.functions import to_date, date_format\n",
    "\n",
    "\n",
    "def vld_ar_receipt_valid():\n",
    "    return dlt.read(\"vld_ar_receipt_valid\")\n",
    "\n",
    "@dlt.table(\n",
    "    name=\"ar_receipt_fbdi\"\n",
    ")\n",
    "def ar_receipt_fbdi():\n",
    "    df = dlt.read(\"vld_ar_receipt_valid\")\n",
    "    df = df.withColumn(\n",
    "        \"date\",\n",
    "        date_format(to_date(\"date\", \"yyyy-MM-dd\"), \"dd-MM-yyyy\")\n",
    "    )\n",
    "    required_columns = [\n",
    "        \"seq_num\",\"org\", \"Record_Type\", \"receipt_number\", \"receipt_amount\",\n",
    "        \"date\", \"Unique_column\", \"customer_name\", \"fusion_site_id\", \"fusion_location_id\"\n",
    "    ]\n",
    "    df_fbdi = df.select(required_columns)\n",
    "    return df_fbdi"
   ]
  }
 ],
 "metadata": {
  "application/vnd.databricks.v1+notebook": {
   "computePreferences": null,
   "dashboards": [],
   "environmentMetadata": {
    "base_environment": "",
    "environment_version": "2"
   },
   "inputWidgetPreferences": null,
   "language": "python",
   "notebookMetadata": {
    "pythonIndentUnit": 4
   },
   "notebookName": "06_AR_Receipt_FBDI",
   "widgets": {}
  },
  "language_info": {
   "name": "python"
  }
 },
 "nbformat": 4,
 "nbformat_minor": 0
}
