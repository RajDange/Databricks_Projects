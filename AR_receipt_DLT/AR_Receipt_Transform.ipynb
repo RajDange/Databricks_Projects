{
 "cells": [
  {
   "cell_type": "code",
   "execution_count": 0,
   "metadata": {
    "application/vnd.databricks.v1+cell": {
     "cellMetadata": {},
     "inputWidgets": {},
     "nuid": "39245a07-18f3-47d2-920c-67310df77c98",
     "showTitle": false,
     "tableResultSettingsMap": {},
     "title": ""
    }
   },
   "outputs": [],
   "source": [
    "import dlt\n",
    "from pyspark.sql.functions import lit, concat_ws, row_number\n",
    "from pyspark.sql.window import Window\n",
    "\n",
    "def int_ar_receipt_integrate():\n",
    "    return dlt.read(\"int_ar_receipt_integrate\")\n",
    "\n",
    "@dlt.table(\n",
    "    name=\"trn_ar_receipt_transform\"\n",
    ")\n",
    "def trn_ar_receipt_transform():\n",
    "    df = dlt.read(\"int_ar_receipt_integrate\")\n",
    "    # Sort DataFrame\n",
    "    sorted_df = df.orderBy(\"receipt_number\")\n",
    "    # Window specification for row_number\n",
    "    windowSpec = Window.orderBy(\"receipt_number\")\n",
    "    df_seq = sorted_df.withColumn(\"seq_num\", row_number().over(windowSpec))\n",
    "    # Add default value column\n",
    "    df_seq = df_seq.withColumn(\"Record_Type\", lit(\"customer\"))\n",
    "    # Add concatenated column\n",
    "    df_seq = df_seq.withColumn(\"Unique_column\", concat_ws(\"_\", df_seq.customer_name, df_seq.receipt_number))\n",
    "    return df_seq"
   ]
  }
 ],
 "metadata": {
  "application/vnd.databricks.v1+notebook": {
   "computePreferences": null,
   "dashboards": [],
   "environmentMetadata": {
    "base_environment": "",
    "environment_version": "2"
   },
   "inputWidgetPreferences": null,
   "language": "python",
   "notebookMetadata": {
    "pythonIndentUnit": 4
   },
   "notebookName": "AR_Receipt_Transform",
   "widgets": {}
  },
  "language_info": {
   "name": "python"
  }
 },
 "nbformat": 4,
 "nbformat_minor": 0
}
