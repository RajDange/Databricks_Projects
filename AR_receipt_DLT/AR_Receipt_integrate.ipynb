{
 "cells": [
  {
   "cell_type": "code",
   "execution_count": 0,
   "metadata": {
    "application/vnd.databricks.v1+cell": {
     "cellMetadata": {},
     "inputWidgets": {},
     "nuid": "0e5b3e94-2010-4bd6-b9ea-564e31cf5f62",
     "showTitle": false,
     "tableResultSettingsMap": {},
     "title": ""
    }
   },
   "outputs": [],
   "source": [
    "import dlt\n",
    "from pyspark.sql.functions import col\n",
    "\n",
    "@dlt.table(\n",
    "    name=\"customer_master_xref_filtered\"\n",
    ")\n",
    "def customer_master_xref_filtered():\n",
    "    df = dlt.read(\"my_database.extracts.customer_master_xref\")\n",
    "    return df.filter(col(\"org\") == \"ERP_LN\")\n",
    "\n",
    "@dlt.table(\n",
    "    name=\"receipt_extract\"\n",
    ")\n",
    "def receipt_extract():\n",
    "    return dlt.read(\"my_database.extracts.receipt_extract\")\n",
    "\n",
    "@dlt.table(\n",
    "    name=\"int_ar_receipt_integrate\"\n",
    ")\n",
    "def int_ar_receipt_integrate():\n",
    "    cmx = dlt.read(\"customer_master_xref_filtered\")\n",
    "    re = dlt.read(\"receipt_extract\")\n",
    "    joined = cmx.join(\n",
    "        re,\n",
    "        (cmx.legacy_site_id == re.customer_site) &\n",
    "        (cmx.legacy_location_id == re.customer_location),\n",
    "        how=\"right\"\n",
    "    )\n",
    "    result = joined.select(\n",
    "        cmx.org, \n",
    "        cmx.customer_name, \n",
    "        cmx.fusion_location_id,\n",
    "        cmx.fusion_site_id,\n",
    "        re.receipt_number,\n",
    "        re.receipt_amount,\n",
    "        re.date   \n",
    "    )\n",
    "    return result"
   ]
  }
 ],
 "metadata": {
  "application/vnd.databricks.v1+notebook": {
   "computePreferences": null,
   "dashboards": [],
   "environmentMetadata": {
    "base_environment": "",
    "environment_version": "2"
   },
   "inputWidgetPreferences": null,
   "language": "python",
   "notebookMetadata": {
    "pythonIndentUnit": 4
   },
   "notebookName": "AR_Receipt_integrate",
   "widgets": {}
  },
  "language_info": {
   "name": "python"
  }
 },
 "nbformat": 4,
 "nbformat_minor": 0
}
