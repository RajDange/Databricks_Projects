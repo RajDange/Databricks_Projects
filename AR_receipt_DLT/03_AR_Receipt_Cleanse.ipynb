{
 "cells": [
  {
   "cell_type": "code",
   "execution_count": 0,
   "metadata": {
    "application/vnd.databricks.v1+cell": {
     "cellMetadata": {},
     "inputWidgets": {},
     "nuid": "53fa8469-69c2-4a22-82c7-a36036c453ea",
     "showTitle": false,
     "tableResultSettingsMap": {},
     "title": ""
    }
   },
   "outputs": [],
   "source": [
    "import dlt\n",
    "from pyspark.sql.functions import expr\n",
    "\n",
    "def trn_ar_receipt_transform():\n",
    "    return dlt.read(\"trn_ar_receipt_transform\")\n",
    "\n",
    "@dlt.table(\n",
    "    name=\"cln_ar_receipt_cleanse\"\n",
    ")\n",
    "def cln_ar_receipt_cleanse():\n",
    "    df = dlt.read(\"trn_ar_receipt_transform\")\n",
    "    # Specify columns to skip\n",
    "    skip_columns = [\"date\"]\n",
    "    # Cleanse all columns except those in skip_columns\n",
    "    for col_name in df.columns:\n",
    "        if col_name not in skip_columns:\n",
    "            df = df.withColumn(col_name, expr(f\"regexp_replace({col_name}, '^ +', '')\"))\n",
    "    return df"
   ]
  }
 ],
 "metadata": {
  "application/vnd.databricks.v1+notebook": {
   "computePreferences": null,
   "dashboards": [],
   "environmentMetadata": {
    "base_environment": "",
    "environment_version": "2"
   },
   "inputWidgetPreferences": null,
   "language": "python",
   "notebookMetadata": {
    "pythonIndentUnit": 4
   },
   "notebookName": "03_AR_Receipt_Cleanse",
   "widgets": {}
  },
  "language_info": {
   "name": "python"
  }
 },
 "nbformat": 4,
 "nbformat_minor": 0
}
