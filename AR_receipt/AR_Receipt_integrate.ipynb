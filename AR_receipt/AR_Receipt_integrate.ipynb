{
 "cells": [
  {
   "cell_type": "code",
   "execution_count": 0,
   "metadata": {
    "application/vnd.databricks.v1+cell": {
     "cellMetadata": {
      "byteLimit": 2048000,
      "rowLimit": 10000
     },
     "inputWidgets": {},
     "nuid": "1a8b665b-019b-4e6b-9dff-2b538ecd013e",
     "showTitle": false,
     "tableResultSettingsMap": {},
     "title": ""
    }
   },
   "outputs": [],
   "source": [
    "from pyspark.sql import SparkSession\n",
    "from pyspark.sql.functions import col\n",
    "\n",
    "spark = SparkSession.builder.getOrCreate()\n",
    "\n",
    "# Load tables\n",
    "cmx = spark.table(\"my_database.extracts.customer_master_xref\")\n",
    "re = spark.table(\"my_database.extracts.receipt_extract\")\n",
    "\n",
    "# Filter customer_master_xref on org\n",
    "cmx_filtered = cmx.filter(col(\"org\") == \"ERP_LN\")\n",
    "\n",
    "# Join: right join to get all from receipt_extract\n",
    "joined = cmx_filtered.join(\n",
    "    re,\n",
    "    (cmx_filtered.legacy_site_id == re.customer_site) &\n",
    "    (cmx_filtered.legacy_location_id == re.customer_location),\n",
    "    how=\"right\"\n",
    ")\n",
    "joined.show()\n"
   ]
  },
  {
   "cell_type": "code",
   "execution_count": 0,
   "metadata": {
    "application/vnd.databricks.v1+cell": {
     "cellMetadata": {
      "byteLimit": 2048000,
      "rowLimit": 10000
     },
     "inputWidgets": {},
     "nuid": "d4fbc510-a9f3-4a39-86d1-dd7c7e2c15e0",
     "showTitle": false,
     "tableResultSettingsMap": {},
     "title": ""
    }
   },
   "outputs": [],
   "source": [
    "\n",
    "result = joined.select(\n",
    "    cmx.org, \n",
    "    cmx.customer_name, \n",
    "    cmx.fusion_location_id,\n",
    "    cmx.fusion_site_id,\n",
    "    re.receipt_number,\n",
    "    re.receipt_amount,\n",
    "    re.date   \n",
    ")\n",
    "result.show()"
   ]
  },
  {
   "cell_type": "code",
   "execution_count": 0,
   "metadata": {
    "application/vnd.databricks.v1+cell": {
     "cellMetadata": {
      "byteLimit": 2048000,
      "rowLimit": 10000
     },
     "inputWidgets": {},
     "nuid": "68530802-a19a-4b49-8607-395933e246d7",
     "showTitle": false,
     "tableResultSettingsMap": {},
     "title": ""
    }
   },
   "outputs": [],
   "source": [
    "\n",
    "# Write to new Delta table\n",
    "result.write.format(\"delta\").mode(\"overwrite\").saveAsTable(\"my_database.my_schema.Int_AR_receipt_integrate\")"
   ]
  }
 ],
 "metadata": {
  "application/vnd.databricks.v1+notebook": {
   "computePreferences": null,
   "dashboards": [],
   "environmentMetadata": {
    "base_environment": "",
    "environment_version": "2"
   },
   "inputWidgetPreferences": null,
   "language": "python",
   "notebookMetadata": {
    "pythonIndentUnit": 4
   },
   "notebookName": "AR_Receipt_integrate",
   "widgets": {}
  },
  "language_info": {
   "name": "python"
  }
 },
 "nbformat": 4,
 "nbformat_minor": 0
}
