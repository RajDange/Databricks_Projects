{
 "cells": [
  {
   "cell_type": "code",
   "execution_count": 0,
   "metadata": {
    "application/vnd.databricks.v1+cell": {
     "cellMetadata": {
      "byteLimit": 2048000,
      "rowLimit": 10000
     },
     "inputWidgets": {},
     "nuid": "a2bee18d-011a-4762-9f5e-05fc6ca28a82",
     "showTitle": false,
     "tableResultSettingsMap": {},
     "title": ""
    }
   },
   "outputs": [],
   "source": [
    "from pyspark.sql import SparkSession\n",
    "from pyspark.sql.functions import lit, concat_ws, row_number\n",
    "from pyspark.sql.functions import to_date, date_format\n",
    "from pyspark.sql.window import Window\n",
    "\n",
    "dbutils.widgets.text(\"Record_Type\", \"customer\", \"Record Type Parameter\")\n",
    "record_type = dbutils.widgets.get(\"Record_Type\")\n",
    "\n",
    "spark = SparkSession.builder.getOrCreate()\n"
   ]
  },
  {
   "cell_type": "code",
   "execution_count": 0,
   "metadata": {
    "application/vnd.databricks.v1+cell": {
     "cellMetadata": {
      "byteLimit": 2048000,
      "rowLimit": 10000
     },
     "inputWidgets": {},
     "nuid": "13cc91aa-d984-4d68-94b2-5f46b347f48f",
     "showTitle": false,
     "tableResultSettingsMap": {},
     "title": ""
    }
   },
   "outputs": [],
   "source": [
    "# Load previous result\n",
    "df = spark.table(\"my_database.my_schema.int_ar_receipt_integrate\")\n",
    "\n",
    "df.show()"
   ]
  },
  {
   "cell_type": "code",
   "execution_count": 0,
   "metadata": {
    "application/vnd.databricks.v1+cell": {
     "cellMetadata": {
      "byteLimit": 2048000,
      "rowLimit": 10000
     },
     "inputWidgets": {},
     "nuid": "772d93d3-cc83-46d8-879f-21633f78e64a",
     "showTitle": false,
     "tableResultSettingsMap": {},
     "title": ""
    }
   },
   "outputs": [],
   "source": [
    "\n",
    "\n",
    "# Sort the DataFrame (replace 'colA' with your desired sort column)\n",
    "sorted_df = df.orderBy(\"receipt_number\")\n",
    "\n",
    "\n",
    "windowSpec = Window.orderBy(\"receipt_number\")  # or another column (or multiple columns)\n",
    "df_seq = sorted_df.withColumn(\"seq_num\", row_number().over(windowSpec))\n",
    "\n",
    "# Add default value column\n",
    "df_seq = df_seq.withColumn(\"Record_Type\", lit(record_type))\n",
    "\n",
    "# Add concatenated column (change colA and colB as needed)\n",
    "df_seq = df_seq.withColumn(\"Unique_column\", concat_ws(\"_\", df_seq.customer_name, df_seq.receipt_number))\n",
    "\n",
    "# df_seq = df_seq.withColumn(\n",
    "#     \"date\",\n",
    "#     date_format(to_date(\"date\", \"yyyy-MM-dd\"), \"dd-MM-yyyy\")\n",
    "# )\n",
    "\n",
    "df_seq.show()"
   ]
  },
  {
   "cell_type": "code",
   "execution_count": 0,
   "metadata": {
    "application/vnd.databricks.v1+cell": {
     "cellMetadata": {
      "byteLimit": 2048000,
      "rowLimit": 10000
     },
     "inputWidgets": {},
     "nuid": "dba664f1-6fd5-40f0-9848-4cd36b073dba",
     "showTitle": false,
     "tableResultSettingsMap": {},
     "title": ""
    }
   },
   "outputs": [],
   "source": [
    "# Save as new table\n",
    "df_seq.write.format(\"delta\").mode(\"overwrite\").saveAsTable(\"my_database.my_schema.Trn_ar_receipt_transform\")"
   ]
  }
 ],
 "metadata": {
  "application/vnd.databricks.v1+notebook": {
   "computePreferences": null,
   "dashboards": [],
   "environmentMetadata": {
    "base_environment": "",
    "environment_version": "2"
   },
   "inputWidgetPreferences": null,
   "language": "python",
   "notebookMetadata": {
    "pythonIndentUnit": 4
   },
   "notebookName": "AR_Receipt_Transform",
   "widgets": {
    "Record_Type": {
     "currentValue": "customer_1",
     "nuid": "09bccd2f-fd1d-43a6-b92d-6a2da1f14690",
     "typedWidgetInfo": {
      "autoCreated": false,
      "defaultValue": "customer",
      "label": "Record Type Parameter",
      "name": "Record_Type",
      "options": {
       "widgetDisplayType": "Text",
       "validationRegex": null
      },
      "parameterDataType": "String"
     },
     "widgetInfo": {
      "widgetType": "text",
      "defaultValue": "customer",
      "label": "Record Type Parameter",
      "name": "Record_Type",
      "options": {
       "widgetType": "text",
       "autoCreated": null,
       "validationRegex": null
      }
     }
    }
   }
  },
  "language_info": {
   "name": "python"
  }
 },
 "nbformat": 4,
 "nbformat_minor": 0
}
