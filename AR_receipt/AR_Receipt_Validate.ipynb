{
 "cells": [
  {
   "cell_type": "code",
   "execution_count": 0,
   "metadata": {
    "application/vnd.databricks.v1+cell": {
     "cellMetadata": {
      "byteLimit": 2048000,
      "rowLimit": 10000
     },
     "inputWidgets": {},
     "nuid": "c0e68fd7-c67c-4cdd-ad71-efcd855be01e",
     "showTitle": false,
     "tableResultSettingsMap": {},
     "title": ""
    }
   },
   "outputs": [],
   "source": [
    "%load_ext autoreload\n",
    "%autoreload 2\n",
    "# Enables autoreload; learn more at https://docs.databricks.com/en/files/workspace-modules.html#autoreload-for-python-modules\n",
    "# To disable autoreload; run %autoreload 0"
   ]
  },
  {
   "cell_type": "code",
   "execution_count": 0,
   "metadata": {
    "application/vnd.databricks.v1+cell": {
     "cellMetadata": {
      "byteLimit": 2048000,
      "rowLimit": 10000
     },
     "inputWidgets": {},
     "nuid": "b8cc966b-49eb-44a6-a995-a4d8e928bfa6",
     "showTitle": false,
     "tableResultSettingsMap": {},
     "title": ""
    }
   },
   "outputs": [],
   "source": [
    "from validation_rules import not_null_rule, date_format_rule, concat_errors\n",
    "from pyspark.sql.functions import col\n",
    "from pyspark.sql import SparkSession\n",
    "\n",
    "spark = SparkSession.builder.getOrCreate()\n",
    "\n",
    "df = spark.read.table(\"my_database.my_schema.cln_ar_receipt_cleanse\")\n",
    "\n",
    "invalid_customer_name = not_null_rule(\"customer_name\")\n",
    "invalid_date_format = date_format_rule(\"date\")\n",
    "invalid_date_null = not_null_rule(\"date\")\n",
    "\n",
    "# Combine errors\n",
    "Invalid_summary = concat_errors(invalid_customer_name, invalid_date_format,invalid_date_null)\n"
   ]
  },
  {
   "cell_type": "code",
   "execution_count": 0,
   "metadata": {
    "application/vnd.databricks.v1+cell": {
     "cellMetadata": {
      "byteLimit": 2048000,
      "rowLimit": 10000
     },
     "inputWidgets": {},
     "nuid": "96c9d5ec-fb92-42d5-8488-c0211ca75676",
     "showTitle": false,
     "tableResultSettingsMap": {},
     "title": ""
    }
   },
   "outputs": [],
   "source": [
    "# Add error column(s) at the end of DataFrame\n",
    "df_validated = (df.withColumn(\"invalid_customer_name\", invalid_customer_name).withColumn(\"invalid_date_format\", invalid_date_format).withColumn(\"invalid_date_null\", invalid_date_null).withColumn(\"Invalid_summary\", Invalid_summary))\n",
    "\n",
    "\n",
    "#df_validated = df_validated.withColumn(\"invalid_date_format\", invalid_date_format)\n",
    "#df_validated = df_validated.withColumn(\"invalid_date_null\", invalid_date_null)\n",
    "#df_validated = df_validated.withColumn(\"Invalid_summary\", Invalid_summary)\n",
    "\n",
    "# Split valid/invalid\n",
    "df_valid = df_validated.filter(col(\"Invalid_summary\") == \"\")\n",
    "df_invalid = df_validated.filter(col(\"Invalid_summary\") != \"\")\n",
    "\n",
    "df_invalid.show()"
   ]
  },
  {
   "cell_type": "code",
   "execution_count": 0,
   "metadata": {
    "application/vnd.databricks.v1+cell": {
     "cellMetadata": {
      "byteLimit": 2048000,
      "rowLimit": 10000
     },
     "inputWidgets": {},
     "nuid": "9f661aa7-7e1a-4069-88cf-1e59d635e92e",
     "showTitle": false,
     "tableResultSettingsMap": {},
     "title": ""
    }
   },
   "outputs": [],
   "source": [
    "# Write outputs (dummy table names)\n",
    "df_valid.write.mode(\"overwrite\").saveAsTable(\"my_database.my_schema.vld_ar_receipt_valid\")\n",
    "df_invalid.write.mode(\"overwrite\").saveAsTable(\"my_database.my_schema.vld_ar_receipt_invalid\")"
   ]
  }
 ],
 "metadata": {
  "application/vnd.databricks.v1+notebook": {
   "computePreferences": null,
   "dashboards": [],
   "environmentMetadata": {
    "base_environment": "",
    "environment_version": "2"
   },
   "inputWidgetPreferences": null,
   "language": "python",
   "notebookMetadata": {
    "pythonIndentUnit": 4
   },
   "notebookName": "AR_Receipt_Validate",
   "widgets": {}
  },
  "language_info": {
   "name": "python"
  }
 },
 "nbformat": 4,
 "nbformat_minor": 0
}
