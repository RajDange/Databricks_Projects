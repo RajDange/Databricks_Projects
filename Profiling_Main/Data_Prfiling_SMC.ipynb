{
 "cells": [
  {
   "cell_type": "code",
   "execution_count": 0,
   "metadata": {
    "application/vnd.databricks.v1+cell": {
     "cellMetadata": {
      "byteLimit": 2048000,
      "rowLimit": 10000
     },
     "inputWidgets": {},
     "nuid": "6237397f-8ccd-43ff-a498-4a5e541a0e76",
     "showTitle": false,
     "tableResultSettingsMap": {},
     "title": ""
    }
   },
   "outputs": [],
   "source": [
    "%load_ext autoreload\n",
    "%autoreload 2"
   ]
  },
  {
   "cell_type": "code",
   "execution_count": 0,
   "metadata": {
    "application/vnd.databricks.v1+cell": {
     "cellMetadata": {
      "byteLimit": 2048000,
      "rowLimit": 10000
     },
     "inputWidgets": {},
     "nuid": "93044fe6-1a97-4086-aae5-d3e7823e60aa",
     "showTitle": false,
     "tableResultSettingsMap": {},
     "title": ""
    }
   },
   "outputs": [],
   "source": [
    "import sys\n",
    "sys.path.append(\"/Workspace/Project_2/Databricks_Projects\")\n",
    "from validation_rules import not_null_rule, date_format_rule, concat_errors\n",
    "from pyspark.sql.functions import col"
   ]
  },
  {
   "cell_type": "code",
   "execution_count": 0,
   "metadata": {
    "application/vnd.databricks.v1+cell": {
     "cellMetadata": {
      "byteLimit": 2048000,
      "rowLimit": 10000
     },
     "inputWidgets": {},
     "nuid": "67753052-a411-42d0-af03-632613c92fa4",
     "showTitle": false,
     "tableResultSettingsMap": {},
     "title": ""
    }
   },
   "outputs": [],
   "source": [
    "df = spark.read.table(\"my_database.extracts.cln_smc_ln\")\n",
    "\n",
    "invalid_BillToSiteNumber = not_null_rule(\"BillToSiteNumber\")\n",
    "invalid_ShipToPartySiteNumber = not_null_rule(\"ShipToPartySiteNumber\")\n",
    "invalid_BillToAccountNumber = not_null_rule(\"BillToAccountNumber\")\n",
    "invalid_ShipToPartyNumber = not_null_rule(\"ShipToPartyNumber\")\n",
    "invalid_Service_offerings = not_null_rule(\"Service_offerings\")\n",
    "invalid_INVENTORY_ITEM_ID = not_null_rule(\"INVENTORY_ITEM_ID\")\n",
    "invalid_Billing_account = not_null_rule(\"Billing_account\")\n",
    "invalid_XX_OSS_Calendar_c = not_null_rule(\"XX_OSS_Calendar_c\")\n",
    "\n",
    "# Combine errors\n",
    "Invalid_summary = concat_errors(invalid_BillToSiteNumber,invalid_ShipToPartySiteNumber,invalid_BillToAccountNumber,invalid_ShipToPartyNumber,invalid_Service_offerings, invalid_INVENTORY_ITEM_ID,invalid_Billing_account,invalid_XX_OSS_Calendar_c)"
   ]
  },
  {
   "cell_type": "code",
   "execution_count": 0,
   "metadata": {
    "application/vnd.databricks.v1+cell": {
     "cellMetadata": {
      "byteLimit": 2048000,
      "rowLimit": 10000
     },
     "inputWidgets": {},
     "nuid": "32f2a51e-4ca6-496c-a06e-934c39fdb33c",
     "showTitle": false,
     "tableResultSettingsMap": {},
     "title": ""
    }
   },
   "outputs": [],
   "source": [
    "# Add error column(s) at the end of DataFrame\n",
    "df_validated = (df.withColumn(\"invalid_BillToSiteNumber\",invalid_BillToSiteNumber )\n",
    ".withColumn(\"invalid_ShipToPartySiteNumber\",invalid_ShipToPartySiteNumber )\n",
    ".withColumn(\"invalid_BillToAccountNumber\",invalid_BillToAccountNumber )\n",
    ".withColumn(\"invalid_ShipToPartyNumber\",invalid_ShipToPartyNumber )\n",
    ".withColumn(\"invalid_Service_offerings\",invalid_Service_offerings )\n",
    ".withColumn(\"invalid_INVENTORY_ITEM_ID\",invalid_INVENTORY_ITEM_ID )\n",
    ".withColumn(\"invalid_Billing_account\",invalid_Billing_account )\n",
    ".withColumn(\"invalid_XX_OSS_Calendar_c\",invalid_XX_OSS_Calendar_c )\n",
    ".withColumn(\"Invalid_summary\",Invalid_summary )\n",
    ")\n",
    "\n",
    "df_validated.write.mode(\"overwrite\").saveAsTable(\"my_database.my_schema.All_SMC_Profile_ready\")\n"
   ]
  },
  {
   "cell_type": "code",
   "execution_count": 0,
   "metadata": {
    "application/vnd.databricks.v1+cell": {
     "cellMetadata": {
      "byteLimit": 2048000,
      "rowLimit": 10000
     },
     "inputWidgets": {},
     "nuid": "9dfd8ad1-4508-48ae-aa97-f0f8e983168a",
     "showTitle": false,
     "tableResultSettingsMap": {},
     "title": ""
    }
   },
   "outputs": [],
   "source": [
    "# Split valid/invalid\n",
    "df_valid = df_validated.filter(col(\"Invalid_summary\") == \"\")\n",
    "df_invalid = df_validated.filter(col(\"Invalid_summary\") != \"\")\n",
    "\n",
    "display(df_invalid)"
   ]
  },
  {
   "cell_type": "code",
   "execution_count": 0,
   "metadata": {
    "application/vnd.databricks.v1+cell": {
     "cellMetadata": {
      "byteLimit": 2048000,
      "rowLimit": 10000
     },
     "inputWidgets": {},
     "nuid": "cf38122e-ce62-48b4-b15c-01bffcf40b1e",
     "showTitle": false,
     "tableResultSettingsMap": {},
     "title": ""
    }
   },
   "outputs": [],
   "source": [
    "# Write outputs (dummy table names)\n",
    "df_valid.write.mode(\"overwrite\").saveAsTable(\"my_database.my_schema.vld_SMC_valid\")\n",
    "df_invalid.write.mode(\"overwrite\").saveAsTable(\"my_database.my_schema.vld_SMC_invalid\")"
   ]
  }
 ],
 "metadata": {
  "application/vnd.databricks.v1+notebook": {
   "computePreferences": null,
   "dashboards": [],
   "environmentMetadata": {
    "base_environment": "",
    "environment_version": "2"
   },
   "inputWidgetPreferences": null,
   "language": "python",
   "notebookMetadata": {
    "pythonIndentUnit": 4
   },
   "notebookName": "Data_Prfiling_SMC",
   "widgets": {}
  },
  "language_info": {
   "name": "python"
  }
 },
 "nbformat": 4,
 "nbformat_minor": 0
}
