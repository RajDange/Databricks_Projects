{
 "cells": [
  {
   "cell_type": "code",
   "execution_count": 0,
   "metadata": {
    "application/vnd.databricks.v1+cell": {
     "cellMetadata": {
      "byteLimit": 2048000,
      "rowLimit": 10000
     },
     "inputWidgets": {},
     "nuid": "9784e096-e570-4076-9dd8-9d833f69b5f9",
     "showTitle": false,
     "tableResultSettingsMap": {},
     "title": ""
    }
   },
   "outputs": [],
   "source": [
    "df= spark.read.table(\"my_database.my_schema.cln_ar_receipt_cleanse\")"
   ]
  },
  {
   "cell_type": "code",
   "execution_count": 0,
   "metadata": {
    "application/vnd.databricks.v1+cell": {
     "cellMetadata": {
      "byteLimit": 2048000,
      "rowLimit": 10000
     },
     "inputWidgets": {},
     "nuid": "75551a16-9366-42c5-883f-04a178fe6d32",
     "showTitle": false,
     "tableResultSettingsMap": {},
     "title": ""
    }
   },
   "outputs": [],
   "source": [
    "null_customer_name = df.filter(df.customer_name.isNull()).toPandas()"
   ]
  },
  {
   "cell_type": "code",
   "execution_count": 0,
   "metadata": {
    "application/vnd.databricks.v1+cell": {
     "cellMetadata": {
      "byteLimit": 2048000,
      "rowLimit": 10000
     },
     "inputWidgets": {},
     "nuid": "27837625-2922-47d2-a727-f40b948cdc6f",
     "showTitle": false,
     "tableResultSettingsMap": {},
     "title": ""
    }
   },
   "outputs": [],
   "source": [
    "non_null = df.filter(df.fusion_location_id.isNotNull())\n",
    "unique_count = non_null.select(\"fusion_location_id\").distinct().count()\n",
    "total_non_null = non_null.count()\n",
    "is_unique = unique_count == total_non_null\n",
    "nulls_in_fusion_location_id = df.filter(df.fusion_location_id.isNull()).count()"
   ]
  },
  {
   "cell_type": "code",
   "execution_count": 0,
   "metadata": {
    "application/vnd.databricks.v1+cell": {
     "cellMetadata": {
      "byteLimit": 2048000,
      "rowLimit": 10000
     },
     "inputWidgets": {},
     "nuid": "4841a562-3fe0-4ec9-b57c-1647412024d8",
     "showTitle": false,
     "tableResultSettingsMap": {},
     "title": ""
    }
   },
   "outputs": [],
   "source": [
    "null_receipt_number = df.filter(df.receipt_number.isNull()).toPandas()"
   ]
  },
  {
   "cell_type": "code",
   "execution_count": 0,
   "metadata": {
    "application/vnd.databricks.v1+cell": {
     "cellMetadata": {
      "byteLimit": 2048000,
      "rowLimit": 10000
     },
     "inputWidgets": {},
     "nuid": "a42a4915-e59f-4c3f-bf5c-c77abc2c28ee",
     "showTitle": false,
     "tableResultSettingsMap": {},
     "title": ""
    }
   },
   "outputs": [],
   "source": [
    "html_report = f\"\"\"\n",
    "<html>\n",
    "<head>\n",
    "    <title>Custom Data Quality Report</title>\n",
    "    <style>\n",
    "        body {{ font-family: Arial, sans-serif; margin: 20px; }}\n",
    "        h1, h2 {{ color: #2d3e50; }}\n",
    "        table {{ border-collapse: collapse; width: 90%; margin-bottom: 30px; }}\n",
    "        th, td {{ border: 1px solid #aaa; padding: 8px; text-align: left; }}\n",
    "        th {{ background: #f4f4f4; }}\n",
    "        .alert {{ color: #b94a48; font-weight: bold; }}\n",
    "        .ok {{ color: #228B22; font-weight: bold; }}\n",
    "    </style>\n",
    "</head>\n",
    "<body>\n",
    "    <h1>Data Quality Report</h1>\n",
    "\n",
    "    <h2>1. Rows with <span class=\"alert\">null</span> in <b>customer_name</b></h2>\n",
    "    {null_customer_name.to_html(index=False) if not null_customer_name.empty else '<p class=\"ok\">No nulls in customer_name.</p>'}\n",
    "\n",
    "    <h2>2. Uniqueness of <b>fusion_location_id</b></h2>\n",
    "    <p>\n",
    "        <b>fusion_location_id</b> is {'<span class=\"ok\">unique</span>' if is_unique else '<span class=\"alert\">not unique</span>'} among non-null values.<br>\n",
    "        Nulls in fusion_location_id: <b>{nulls_in_fusion_location_id}</b>\n",
    "    </p>\n",
    "\n",
    "    <h2>3. Rows with <span class=\"alert\">null</span> in <b>receipt_number</b></h2>\n",
    "    {null_receipt_number.to_html(index=False) if not null_receipt_number.empty else '<p class=\"ok\">No nulls in receipt_number.</p>'}\n",
    "</body>\n",
    "</html>\n",
    "\"\"\""
   ]
  },
  {
   "cell_type": "code",
   "execution_count": 0,
   "metadata": {
    "application/vnd.databricks.v1+cell": {
     "cellMetadata": {
      "byteLimit": 2048000,
      "rowLimit": 10000
     },
     "inputWidgets": {},
     "nuid": "a8ff2b9c-1312-4b40-a90e-0fc40c6f0104",
     "showTitle": false,
     "tableResultSettingsMap": {},
     "title": ""
    }
   },
   "outputs": [],
   "source": [
    "with open(\"/Volumes/my_database/my_schema/volume_1/html_profile.html\", \"w\") as file: file.write(html_report)\n"
   ]
  },
  {
   "cell_type": "code",
   "execution_count": 0,
   "metadata": {
    "application/vnd.databricks.v1+cell": {
     "cellMetadata": {
      "byteLimit": 2048000,
      "rowLimit": 10000
     },
     "inputWidgets": {},
     "nuid": "e42d693a-9073-4bc5-b069-35a95f65ad27",
     "showTitle": false,
     "tableResultSettingsMap": {},
     "title": ""
    }
   },
   "outputs": [],
   "source": []
  }
 ],
 "metadata": {
  "application/vnd.databricks.v1+notebook": {
   "computePreferences": null,
   "dashboards": [],
   "environmentMetadata": {
    "base_environment": "",
    "environment_version": "2"
   },
   "inputWidgetPreferences": null,
   "language": "python",
   "notebookMetadata": {
    "pythonIndentUnit": 4
   },
   "notebookName": "Custom_Html",
   "widgets": {}
  },
  "language_info": {
   "name": "python"
  }
 },
 "nbformat": 4,
 "nbformat_minor": 0
}
